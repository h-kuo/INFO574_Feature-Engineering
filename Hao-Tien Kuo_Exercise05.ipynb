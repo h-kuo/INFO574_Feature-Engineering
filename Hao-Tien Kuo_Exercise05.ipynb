{
 "cells": [
  {
   "cell_type": "markdown",
   "id": "4ad83feb-c9f6-426d-813f-82c683e28908",
   "metadata": {},
   "source": [
    "# Exercise 05\n",
    "Hao-Tien Kuo\n",
    "## Predicting used car prices some more"
   ]
  },
  {
   "cell_type": "code",
   "execution_count": null,
   "id": "9e049c84-a858-4875-bca2-3f6e4e004aae",
   "metadata": {},
   "outputs": [],
   "source": [
    "import numpy as np\n",
    "import pandas as pd\n",
    "import statistics\n",
    "import seaborn as sns\n",
    "import matplotlib.pyplot as plt\n",
    "\n",
    "df = pd.read_csv('train.csv')"
   ]
  },
  {
   "cell_type": "code",
   "execution_count": null,
   "id": "eb5cfd7e-2f8a-4951-b17e-ef3076db5bc5",
   "metadata": {},
   "outputs": [],
   "source": []
  },
  {
   "cell_type": "code",
   "execution_count": null,
   "id": "5fda0846-5b7f-4ff0-ac17-3767625bdbe2",
   "metadata": {},
   "outputs": [],
   "source": [
    "X = df[['Power', 'Engine', 'Kilometers_Driven', 'Year']]\n",
    "X.corr()"
   ]
  },
  {
   "cell_type": "code",
   "execution_count": null,
   "id": "6c417509-1524-4e29-946f-66916cf9e30e",
   "metadata": {},
   "outputs": [],
   "source": [
    "from sklearn.linear_model import LinearRegression\n",
    "from sklearn.model_selection import train_test_split\n",
    "from sklearn.experimental import enable_iterative_imputer\n",
    "from sklearn.impute import IterativeImputer\n",
    "\n",
    "imp = IterativeImputer(estimator=LinearRegression(), verbose=2, max_iter=30, tol=1e-10, imputation_order='roman')\n",
    "\n",
    "imp.fit(X)\n",
    "X_array = imp.transform(X)\n",
    "X = pd.DataFrame(X_array, columns = ['Power', 'Engine', 'Kilometers_Driven', 'Year'])"
   ]
  },
  {
   "cell_type": "code",
   "execution_count": null,
   "id": "3d57c72a-b4a9-4d39-8462-7ecc5a3e5ff3",
   "metadata": {},
   "outputs": [],
   "source": [
    "X.isna().sum()"
   ]
  }
 ],
 "metadata": {
  "kernelspec": {
   "display_name": "Python 3",
   "language": "python",
   "name": "python3"
  },
  "language_info": {
   "codemirror_mode": {
    "name": "ipython",
    "version": 3
   },
   "file_extension": ".py",
   "mimetype": "text/x-python",
   "name": "python",
   "nbconvert_exporter": "python",
   "pygments_lexer": "ipython3",
   "version": "3.8.8"
  }
 },
 "nbformat": 4,
 "nbformat_minor": 5
}
